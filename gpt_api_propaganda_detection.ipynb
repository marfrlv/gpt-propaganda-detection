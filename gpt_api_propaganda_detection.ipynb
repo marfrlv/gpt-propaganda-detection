{
  "nbformat": 4,
  "nbformat_minor": 0,
  "metadata": {
    "colab": {
      "provenance": [],
      "mount_file_id": "1SRh5AY3YHjVnOD4YkOg5wDW2xDdZv3R3",
      "authorship_tag": "ABX9TyMsaJe+RbI2om/VR9XgdsGp",
      "include_colab_link": true
    },
    "kernelspec": {
      "name": "python3",
      "display_name": "Python 3"
    },
    "language_info": {
      "name": "python"
    }
  },
  "cells": [
    {
      "cell_type": "markdown",
      "metadata": {
        "id": "view-in-github",
        "colab_type": "text"
      },
      "source": [
        "<a href=\"https://colab.research.google.com/github/marfrlv/gpt-propaganda-detection/blob/main/gpt_api_propaganda_detection.ipynb\" target=\"_parent\"><img src=\"https://colab.research.google.com/assets/colab-badge.svg\" alt=\"Open In Colab\"/></a>"
      ]
    },
    {
      "cell_type": "markdown",
      "source": [
        "# 1. Libraries"
      ],
      "metadata": {
        "id": "kCn6ULbL7j4P"
      }
    },
    {
      "cell_type": "code",
      "execution_count": null,
      "metadata": {
        "id": "fuEaZuuq05_S",
        "colab": {
          "base_uri": "https://localhost:8080/"
        },
        "collapsed": true,
        "outputId": "2aead712-276d-4881-bd93-2b250a12353a"
      },
      "outputs": [
        {
          "output_type": "stream",
          "name": "stdout",
          "text": [
            "Requirement already satisfied: openai in /usr/local/lib/python3.10/dist-packages (1.37.0)\n",
            "Requirement already satisfied: anyio<5,>=3.5.0 in /usr/local/lib/python3.10/dist-packages (from openai) (3.7.1)\n",
            "Requirement already satisfied: distro<2,>=1.7.0 in /usr/lib/python3/dist-packages (from openai) (1.7.0)\n",
            "Requirement already satisfied: httpx<1,>=0.23.0 in /usr/local/lib/python3.10/dist-packages (from openai) (0.27.0)\n",
            "Requirement already satisfied: pydantic<3,>=1.9.0 in /usr/local/lib/python3.10/dist-packages (from openai) (2.8.2)\n",
            "Requirement already satisfied: sniffio in /usr/local/lib/python3.10/dist-packages (from openai) (1.3.1)\n",
            "Requirement already satisfied: tqdm>4 in /usr/local/lib/python3.10/dist-packages (from openai) (4.66.4)\n",
            "Requirement already satisfied: typing-extensions<5,>=4.7 in /usr/local/lib/python3.10/dist-packages (from openai) (4.12.2)\n",
            "Requirement already satisfied: idna>=2.8 in /usr/local/lib/python3.10/dist-packages (from anyio<5,>=3.5.0->openai) (3.7)\n",
            "Requirement already satisfied: exceptiongroup in /usr/local/lib/python3.10/dist-packages (from anyio<5,>=3.5.0->openai) (1.2.2)\n",
            "Requirement already satisfied: certifi in /usr/local/lib/python3.10/dist-packages (from httpx<1,>=0.23.0->openai) (2024.7.4)\n",
            "Requirement already satisfied: httpcore==1.* in /usr/local/lib/python3.10/dist-packages (from httpx<1,>=0.23.0->openai) (1.0.5)\n",
            "Requirement already satisfied: h11<0.15,>=0.13 in /usr/local/lib/python3.10/dist-packages (from httpcore==1.*->httpx<1,>=0.23.0->openai) (0.14.0)\n",
            "Requirement already satisfied: annotated-types>=0.4.0 in /usr/local/lib/python3.10/dist-packages (from pydantic<3,>=1.9.0->openai) (0.7.0)\n",
            "Requirement already satisfied: pydantic-core==2.20.1 in /usr/local/lib/python3.10/dist-packages (from pydantic<3,>=1.9.0->openai) (2.20.1)\n"
          ]
        }
      ],
      "source": [
        "! pip install openai"
      ]
    },
    {
      "cell_type": "code",
      "source": [
        "# necessary libraries\n",
        "from openai import OpenAI\n",
        "import pandas as pd\n",
        "import os\n",
        "from io import StringIO\n",
        "import io\n",
        "import re\n",
        "import string\n",
        "import nltk\n",
        "from nltk.corpus import stopwords\n",
        "from nltk.tokenize import word_tokenize\n",
        "from tqdm import tqdm"
      ],
      "metadata": {
        "id": "kGv1Qopz0_kU"
      },
      "execution_count": null,
      "outputs": []
    },
    {
      "cell_type": "markdown",
      "source": [
        "# 2. Data preparation"
      ],
      "metadata": {
        "id": "tSI_J8rD7pLT"
      }
    },
    {
      "cell_type": "code",
      "source": [
        "# paths to the dfs with annotations\n",
        "train_df_path = '/content/drive/MyDrive/thesis/semeval_2020_task_11_corpus/train_labels_task2_with_spans.csv'\n",
        "dev_df_path = '/content/drive/MyDrive/thesis/semeval_2020_task_11_corpus/dev_labels_df_with_spans.csv'\n",
        "\n",
        "# paths to the folders with articles\n",
        "train_art_fold = '/content/drive/MyDrive/thesis/semeval_2020_task_11_corpus/train-articles'\n",
        "dev_art_fold = '/content/drive/MyDrive/thesis/semeval_2020_task_11_corpus/dev-articles'\n",
        "\n",
        "# path to the folder with prompts\n",
        "prompts_fold_path = '/content/drive/MyDrive/thesis/prompts'\n",
        "\n",
        "# additional examples for the few-shot condition\n",
        "add_ex_path = '/content/drive/MyDrive/thesis/semeval_2020_task_11_corpus/additional_examples_for_chatgpt.csv'"
      ],
      "metadata": {
        "id": "Vv4kKsPN0_m6"
      },
      "execution_count": null,
      "outputs": []
    },
    {
      "cell_type": "code",
      "source": [
        "# the examples for the few-shot condition were extracted from the articles from the dataset, so they have to be removed from the experiment\n",
        "add_ex_df = pd.read_csv(add_ex_path)\n",
        "add_ex_df.head()"
      ],
      "metadata": {
        "colab": {
          "base_uri": "https://localhost:8080/",
          "height": 206
        },
        "id": "jurjkP94D_Fa",
        "outputId": "5a501c4d-f3f8-4580-aa5c-b353fea054d7"
      },
      "execution_count": null,
      "outputs": [
        {
          "output_type": "execute_result",
          "data": {
            "text/plain": [
              "          id            technique  beginning_offset  ending_offset  \\\n",
              "0  776373795  Appeal_to_Authority              4205           4572   \n",
              "1  789370909  Appeal_to_Authority              9135           9210   \n",
              "2  765197039  Appeal_to_Authority              2881           2962   \n",
              "3  728758697                Doubt              1512           1584   \n",
              "4  725824328                Doubt              4001           4406   \n",
              "\n",
              "                                           text_span  \n",
              "0  In his tweets, Trump also quoted criticism of ...  \n",
              "1  I believe her because she is telling the truth...  \n",
              "2  Muhammad advises the same thing, according to ...  \n",
              "3  Would a Republican get a pass on meeting with ...  \n",
              "4  Reading Obama’s 1995 memoir, you might almost ...  "
            ],
            "text/html": [
              "\n",
              "  <div id=\"df-ce547947-c73d-4451-9a70-e92faf4a5b82\" class=\"colab-df-container\">\n",
              "    <div>\n",
              "<style scoped>\n",
              "    .dataframe tbody tr th:only-of-type {\n",
              "        vertical-align: middle;\n",
              "    }\n",
              "\n",
              "    .dataframe tbody tr th {\n",
              "        vertical-align: top;\n",
              "    }\n",
              "\n",
              "    .dataframe thead th {\n",
              "        text-align: right;\n",
              "    }\n",
              "</style>\n",
              "<table border=\"1\" class=\"dataframe\">\n",
              "  <thead>\n",
              "    <tr style=\"text-align: right;\">\n",
              "      <th></th>\n",
              "      <th>id</th>\n",
              "      <th>technique</th>\n",
              "      <th>beginning_offset</th>\n",
              "      <th>ending_offset</th>\n",
              "      <th>text_span</th>\n",
              "    </tr>\n",
              "  </thead>\n",
              "  <tbody>\n",
              "    <tr>\n",
              "      <th>0</th>\n",
              "      <td>776373795</td>\n",
              "      <td>Appeal_to_Authority</td>\n",
              "      <td>4205</td>\n",
              "      <td>4572</td>\n",
              "      <td>In his tweets, Trump also quoted criticism of ...</td>\n",
              "    </tr>\n",
              "    <tr>\n",
              "      <th>1</th>\n",
              "      <td>789370909</td>\n",
              "      <td>Appeal_to_Authority</td>\n",
              "      <td>9135</td>\n",
              "      <td>9210</td>\n",
              "      <td>I believe her because she is telling the truth...</td>\n",
              "    </tr>\n",
              "    <tr>\n",
              "      <th>2</th>\n",
              "      <td>765197039</td>\n",
              "      <td>Appeal_to_Authority</td>\n",
              "      <td>2881</td>\n",
              "      <td>2962</td>\n",
              "      <td>Muhammad advises the same thing, according to ...</td>\n",
              "    </tr>\n",
              "    <tr>\n",
              "      <th>3</th>\n",
              "      <td>728758697</td>\n",
              "      <td>Doubt</td>\n",
              "      <td>1512</td>\n",
              "      <td>1584</td>\n",
              "      <td>Would a Republican get a pass on meeting with ...</td>\n",
              "    </tr>\n",
              "    <tr>\n",
              "      <th>4</th>\n",
              "      <td>725824328</td>\n",
              "      <td>Doubt</td>\n",
              "      <td>4001</td>\n",
              "      <td>4406</td>\n",
              "      <td>Reading Obama’s 1995 memoir, you might almost ...</td>\n",
              "    </tr>\n",
              "  </tbody>\n",
              "</table>\n",
              "</div>\n",
              "    <div class=\"colab-df-buttons\">\n",
              "\n",
              "  <div class=\"colab-df-container\">\n",
              "    <button class=\"colab-df-convert\" onclick=\"convertToInteractive('df-ce547947-c73d-4451-9a70-e92faf4a5b82')\"\n",
              "            title=\"Convert this dataframe to an interactive table.\"\n",
              "            style=\"display:none;\">\n",
              "\n",
              "  <svg xmlns=\"http://www.w3.org/2000/svg\" height=\"24px\" viewBox=\"0 -960 960 960\">\n",
              "    <path d=\"M120-120v-720h720v720H120Zm60-500h600v-160H180v160Zm220 220h160v-160H400v160Zm0 220h160v-160H400v160ZM180-400h160v-160H180v160Zm440 0h160v-160H620v160ZM180-180h160v-160H180v160Zm440 0h160v-160H620v160Z\"/>\n",
              "  </svg>\n",
              "    </button>\n",
              "\n",
              "  <style>\n",
              "    .colab-df-container {\n",
              "      display:flex;\n",
              "      gap: 12px;\n",
              "    }\n",
              "\n",
              "    .colab-df-convert {\n",
              "      background-color: #E8F0FE;\n",
              "      border: none;\n",
              "      border-radius: 50%;\n",
              "      cursor: pointer;\n",
              "      display: none;\n",
              "      fill: #1967D2;\n",
              "      height: 32px;\n",
              "      padding: 0 0 0 0;\n",
              "      width: 32px;\n",
              "    }\n",
              "\n",
              "    .colab-df-convert:hover {\n",
              "      background-color: #E2EBFA;\n",
              "      box-shadow: 0px 1px 2px rgba(60, 64, 67, 0.3), 0px 1px 3px 1px rgba(60, 64, 67, 0.15);\n",
              "      fill: #174EA6;\n",
              "    }\n",
              "\n",
              "    .colab-df-buttons div {\n",
              "      margin-bottom: 4px;\n",
              "    }\n",
              "\n",
              "    [theme=dark] .colab-df-convert {\n",
              "      background-color: #3B4455;\n",
              "      fill: #D2E3FC;\n",
              "    }\n",
              "\n",
              "    [theme=dark] .colab-df-convert:hover {\n",
              "      background-color: #434B5C;\n",
              "      box-shadow: 0px 1px 3px 1px rgba(0, 0, 0, 0.15);\n",
              "      filter: drop-shadow(0px 1px 2px rgba(0, 0, 0, 0.3));\n",
              "      fill: #FFFFFF;\n",
              "    }\n",
              "  </style>\n",
              "\n",
              "    <script>\n",
              "      const buttonEl =\n",
              "        document.querySelector('#df-ce547947-c73d-4451-9a70-e92faf4a5b82 button.colab-df-convert');\n",
              "      buttonEl.style.display =\n",
              "        google.colab.kernel.accessAllowed ? 'block' : 'none';\n",
              "\n",
              "      async function convertToInteractive(key) {\n",
              "        const element = document.querySelector('#df-ce547947-c73d-4451-9a70-e92faf4a5b82');\n",
              "        const dataTable =\n",
              "          await google.colab.kernel.invokeFunction('convertToInteractive',\n",
              "                                                    [key], {});\n",
              "        if (!dataTable) return;\n",
              "\n",
              "        const docLinkHtml = 'Like what you see? Visit the ' +\n",
              "          '<a target=\"_blank\" href=https://colab.research.google.com/notebooks/data_table.ipynb>data table notebook</a>'\n",
              "          + ' to learn more about interactive tables.';\n",
              "        element.innerHTML = '';\n",
              "        dataTable['output_type'] = 'display_data';\n",
              "        await google.colab.output.renderOutput(dataTable, element);\n",
              "        const docLink = document.createElement('div');\n",
              "        docLink.innerHTML = docLinkHtml;\n",
              "        element.appendChild(docLink);\n",
              "      }\n",
              "    </script>\n",
              "  </div>\n",
              "\n",
              "\n",
              "<div id=\"df-0f2b1a25-80bc-4d85-ae7a-e9c743aad016\">\n",
              "  <button class=\"colab-df-quickchart\" onclick=\"quickchart('df-0f2b1a25-80bc-4d85-ae7a-e9c743aad016')\"\n",
              "            title=\"Suggest charts\"\n",
              "            style=\"display:none;\">\n",
              "\n",
              "<svg xmlns=\"http://www.w3.org/2000/svg\" height=\"24px\"viewBox=\"0 0 24 24\"\n",
              "     width=\"24px\">\n",
              "    <g>\n",
              "        <path d=\"M19 3H5c-1.1 0-2 .9-2 2v14c0 1.1.9 2 2 2h14c1.1 0 2-.9 2-2V5c0-1.1-.9-2-2-2zM9 17H7v-7h2v7zm4 0h-2V7h2v10zm4 0h-2v-4h2v4z\"/>\n",
              "    </g>\n",
              "</svg>\n",
              "  </button>\n",
              "\n",
              "<style>\n",
              "  .colab-df-quickchart {\n",
              "      --bg-color: #E8F0FE;\n",
              "      --fill-color: #1967D2;\n",
              "      --hover-bg-color: #E2EBFA;\n",
              "      --hover-fill-color: #174EA6;\n",
              "      --disabled-fill-color: #AAA;\n",
              "      --disabled-bg-color: #DDD;\n",
              "  }\n",
              "\n",
              "  [theme=dark] .colab-df-quickchart {\n",
              "      --bg-color: #3B4455;\n",
              "      --fill-color: #D2E3FC;\n",
              "      --hover-bg-color: #434B5C;\n",
              "      --hover-fill-color: #FFFFFF;\n",
              "      --disabled-bg-color: #3B4455;\n",
              "      --disabled-fill-color: #666;\n",
              "  }\n",
              "\n",
              "  .colab-df-quickchart {\n",
              "    background-color: var(--bg-color);\n",
              "    border: none;\n",
              "    border-radius: 50%;\n",
              "    cursor: pointer;\n",
              "    display: none;\n",
              "    fill: var(--fill-color);\n",
              "    height: 32px;\n",
              "    padding: 0;\n",
              "    width: 32px;\n",
              "  }\n",
              "\n",
              "  .colab-df-quickchart:hover {\n",
              "    background-color: var(--hover-bg-color);\n",
              "    box-shadow: 0 1px 2px rgba(60, 64, 67, 0.3), 0 1px 3px 1px rgba(60, 64, 67, 0.15);\n",
              "    fill: var(--button-hover-fill-color);\n",
              "  }\n",
              "\n",
              "  .colab-df-quickchart-complete:disabled,\n",
              "  .colab-df-quickchart-complete:disabled:hover {\n",
              "    background-color: var(--disabled-bg-color);\n",
              "    fill: var(--disabled-fill-color);\n",
              "    box-shadow: none;\n",
              "  }\n",
              "\n",
              "  .colab-df-spinner {\n",
              "    border: 2px solid var(--fill-color);\n",
              "    border-color: transparent;\n",
              "    border-bottom-color: var(--fill-color);\n",
              "    animation:\n",
              "      spin 1s steps(1) infinite;\n",
              "  }\n",
              "\n",
              "  @keyframes spin {\n",
              "    0% {\n",
              "      border-color: transparent;\n",
              "      border-bottom-color: var(--fill-color);\n",
              "      border-left-color: var(--fill-color);\n",
              "    }\n",
              "    20% {\n",
              "      border-color: transparent;\n",
              "      border-left-color: var(--fill-color);\n",
              "      border-top-color: var(--fill-color);\n",
              "    }\n",
              "    30% {\n",
              "      border-color: transparent;\n",
              "      border-left-color: var(--fill-color);\n",
              "      border-top-color: var(--fill-color);\n",
              "      border-right-color: var(--fill-color);\n",
              "    }\n",
              "    40% {\n",
              "      border-color: transparent;\n",
              "      border-right-color: var(--fill-color);\n",
              "      border-top-color: var(--fill-color);\n",
              "    }\n",
              "    60% {\n",
              "      border-color: transparent;\n",
              "      border-right-color: var(--fill-color);\n",
              "    }\n",
              "    80% {\n",
              "      border-color: transparent;\n",
              "      border-right-color: var(--fill-color);\n",
              "      border-bottom-color: var(--fill-color);\n",
              "    }\n",
              "    90% {\n",
              "      border-color: transparent;\n",
              "      border-bottom-color: var(--fill-color);\n",
              "    }\n",
              "  }\n",
              "</style>\n",
              "\n",
              "  <script>\n",
              "    async function quickchart(key) {\n",
              "      const quickchartButtonEl =\n",
              "        document.querySelector('#' + key + ' button');\n",
              "      quickchartButtonEl.disabled = true;  // To prevent multiple clicks.\n",
              "      quickchartButtonEl.classList.add('colab-df-spinner');\n",
              "      try {\n",
              "        const charts = await google.colab.kernel.invokeFunction(\n",
              "            'suggestCharts', [key], {});\n",
              "      } catch (error) {\n",
              "        console.error('Error during call to suggestCharts:', error);\n",
              "      }\n",
              "      quickchartButtonEl.classList.remove('colab-df-spinner');\n",
              "      quickchartButtonEl.classList.add('colab-df-quickchart-complete');\n",
              "    }\n",
              "    (() => {\n",
              "      let quickchartButtonEl =\n",
              "        document.querySelector('#df-0f2b1a25-80bc-4d85-ae7a-e9c743aad016 button');\n",
              "      quickchartButtonEl.style.display =\n",
              "        google.colab.kernel.accessAllowed ? 'block' : 'none';\n",
              "    })();\n",
              "  </script>\n",
              "</div>\n",
              "\n",
              "    </div>\n",
              "  </div>\n"
            ],
            "application/vnd.google.colaboratory.intrinsic+json": {
              "type": "dataframe",
              "variable_name": "add_ex_df",
              "summary": "{\n  \"name\": \"add_ex_df\",\n  \"rows\": 42,\n  \"fields\": [\n    {\n      \"column\": \"id\",\n      \"properties\": {\n        \"dtype\": \"number\",\n        \"std\": 130340831,\n        \"min\": 111111113,\n        \"max\": 999001619,\n        \"num_unique_values\": 37,\n        \"samples\": [\n          759478604,\n          785801366,\n          725824328\n        ],\n        \"semantic_type\": \"\",\n        \"description\": \"\"\n      }\n    },\n    {\n      \"column\": \"technique\",\n      \"properties\": {\n        \"dtype\": \"category\",\n        \"num_unique_values\": 14,\n        \"samples\": [\n          \"Whataboutism,Straw_Men,Red_Herring\",\n          \"Exaggeration,Minimisation\",\n          \"Appeal_to_Authority\"\n        ],\n        \"semantic_type\": \"\",\n        \"description\": \"\"\n      }\n    },\n    {\n      \"column\": \"beginning_offset\",\n      \"properties\": {\n        \"dtype\": \"number\",\n        \"std\": 4458,\n        \"min\": 190,\n        \"max\": 23674,\n        \"num_unique_values\": 42,\n        \"samples\": [\n          1223,\n          2948,\n          1951\n        ],\n        \"semantic_type\": \"\",\n        \"description\": \"\"\n      }\n    },\n    {\n      \"column\": \"ending_offset\",\n      \"properties\": {\n        \"dtype\": \"number\",\n        \"std\": 4453,\n        \"min\": 264,\n        \"max\": 23765,\n        \"num_unique_values\": 42,\n        \"samples\": [\n          1265,\n          2976,\n          1959\n        ],\n        \"semantic_type\": \"\",\n        \"description\": \"\"\n      }\n    },\n    {\n      \"column\": \"text_span\",\n      \"properties\": {\n        \"dtype\": \"string\",\n        \"num_unique_values\": 42,\n        \"samples\": [\n          \"relentlessly appeasement-minded government\",\n          \"Countering Violent Extremism\",\n          \"demonize\"\n        ],\n        \"semantic_type\": \"\",\n        \"description\": \"\"\n      }\n    }\n  ]\n}"
            }
          },
          "metadata": {},
          "execution_count": 30
        }
      ]
    },
    {
      "cell_type": "code",
      "source": [
        "# check if there are 3 additional examples for each technique\n",
        "value_counts = add_ex_df['technique'].value_counts()\n",
        "value_counts"
      ],
      "metadata": {
        "colab": {
          "base_uri": "https://localhost:8080/"
        },
        "id": "Bl6sWeicMsBN",
        "outputId": "ffd0c89f-58c3-4bb1-82c1-9dcd36e5effa"
      },
      "execution_count": null,
      "outputs": [
        {
          "output_type": "execute_result",
          "data": {
            "text/plain": [
              "technique\n",
              "Appeal_to_Authority                   3\n",
              "Doubt                                 3\n",
              "Repetition                            3\n",
              "Appeal_to_fear-prejudice              3\n",
              "Slogans                               3\n",
              "Black-and-White_Fallacy               3\n",
              "Loaded_Language                       3\n",
              "Flag-Waving                           3\n",
              "Name_Calling,Labeling                 3\n",
              "Whataboutism,Straw_Men,Red_Herring    3\n",
              "Causal_Oversimplification             3\n",
              "Exaggeration,Minimisation             3\n",
              "Bandwagon,Reductio_ad_hitlerum        3\n",
              "Thought-terminating_Cliches           3\n",
              "Name: count, dtype: int64"
            ]
          },
          "metadata": {},
          "execution_count": 5
        }
      ]
    },
    {
      "cell_type": "code",
      "source": [
        "unique_ids = add_ex_df['id'].unique()\n",
        "unique_ids_l = unique_ids.tolist()\n",
        "\n",
        "#trial_ids = [788056108, 769962328, 738207834, 786527921, 728972961] # articles already used while tuning the procedure\n",
        "#for id in trial_ids:\n",
        "  #unique_ids_l.append(id)\n",
        "\n",
        "unique_ids_l_str = []\n",
        "for el in unique_ids_l:\n",
        "  el_str = str(el)\n",
        "  unique_ids_l_str.append(el_str)\n",
        "\n",
        "\n",
        "print(f\"There are {len(unique_ids_l_str)} articles to ignore while conducting the experiment.\")"
      ],
      "metadata": {
        "colab": {
          "base_uri": "https://localhost:8080/"
        },
        "id": "ErJXZbNmElE4",
        "outputId": "810b7754-daf9-46aa-9fc4-7b5e703e8f37"
      },
      "execution_count": null,
      "outputs": [
        {
          "output_type": "stream",
          "name": "stdout",
          "text": [
            "There are 37 articles to ignore while conducting the experiment.\n"
          ]
        }
      ]
    },
    {
      "cell_type": "code",
      "source": [
        "# training articles set\n",
        "def extract_articles_with_ids(train_art_fold, unique_ids_l_str):\n",
        "    articles = []\n",
        "    article_ids = []\n",
        "\n",
        "    files = os.listdir(train_art_fold)\n",
        "\n",
        "    for file_name in files:\n",
        "        if file_name.endswith('.txt'):\n",
        "            file_id = file_name.split('.')[0]\n",
        "            if file_id not in unique_ids_l_str:  # check if the id is not in the list of ids to exclude\n",
        "                file_path = os.path.join(train_art_fold, file_name)\n",
        "                with open(file_path, 'r') as file:\n",
        "                    file_content = file.read()\n",
        "                    articles.append(file_content)\n",
        "                    article_ids.append(file_id)\n",
        "\n",
        "    return articles, article_ids\n",
        "\n",
        "# apply the function\n",
        "train_art_output = extract_articles_with_ids(train_art_fold, unique_ids_l_str)\n",
        "articles = train_art_output[0]\n",
        "article_ids = train_art_output[1]\n",
        "\n",
        "print(f'{len(articles)} articles and {len(article_ids)} IDs have been extracted.')"
      ],
      "metadata": {
        "colab": {
          "base_uri": "https://localhost:8080/"
        },
        "id": "CkEpI_R-FSmN",
        "outputId": "4c835e63-85be-4706-ebaa-164925eb808a"
      },
      "execution_count": null,
      "outputs": [
        {
          "output_type": "stream",
          "name": "stdout",
          "text": [
            "334 articles and 334 IDs have been extracted.\n"
          ]
        }
      ]
    },
    {
      "cell_type": "code",
      "source": [
        "# development articles set\n",
        "d_files = os.listdir(dev_art_fold)\n",
        "\n",
        "# texts\n",
        "for file_name in d_files:\n",
        "    if file_name.endswith('.txt'):\n",
        "        file_path = os.path.join(dev_art_fold, file_name)\n",
        "        with open(file_path, 'r') as file:\n",
        "            file_content = file.read()\n",
        "            articles.append(file_content)\n",
        "# ids\n",
        "for file_name in d_files:\n",
        "  if file_name.endswith('.txt'):\n",
        "    file_id = file_name.split('.')[0]  # extract the numeric part before the '.txt' extension\n",
        "    article_ids.append(file_id)"
      ],
      "metadata": {
        "id": "SXlylRPk0_pQ"
      },
      "execution_count": null,
      "outputs": []
    },
    {
      "cell_type": "code",
      "source": [
        "# combine trial ids and trial texts into one list, so ChatGPT is able to extract them during processing\n",
        "ids_texts_combined = [f\"{id}: {text}\" for id, text in zip(article_ids, articles)]\n",
        "\n",
        "# 446 (371 training + 75 development) - 37 (training excluded) = 409\n",
        "print(f'There are {len(ids_texts_combined)} items in the final dataset.')"
      ],
      "metadata": {
        "colab": {
          "base_uri": "https://localhost:8080/"
        },
        "id": "iW-Zx0Fb0_ts",
        "outputId": "edf91c3c-c9d5-44f8-e6ac-e20107cf6845"
      },
      "execution_count": null,
      "outputs": [
        {
          "output_type": "stream",
          "name": "stdout",
          "text": [
            "There are 409 items in the final dataset.\n"
          ]
        }
      ]
    },
    {
      "cell_type": "markdown",
      "source": [
        "# 3. ChatGPT API"
      ],
      "metadata": {
        "id": "Y4FPPTLx7v9q"
      }
    },
    {
      "cell_type": "markdown",
      "source": [
        "## 3.1. One-shot condition\n"
      ],
      "metadata": {
        "id": "a7_myXWOA_jb"
      }
    },
    {
      "cell_type": "code",
      "source": [
        "# the function which sends the given prompt to the api and returns ChatGPT output, takes an article and a temperature parameter value\n",
        "def detect_propaganda_with_chatgpt(prompt, article_text, temperature):\n",
        "  client = OpenAI(api_key='***') # insert the API key here\n",
        "  completion = client.chat.completions.create(\n",
        "    model=\"***\", # choose the model needed\n",
        "    messages=[\n",
        "      {\"role\": \"system\", \"content\": prompt},\n",
        "\n",
        "      {\"role\": \"user\", \"content\": f\"\"\"Here is the article:{article_text}\"\"\"},\n",
        "    ],\n",
        "    temperature=temperature\n",
        "  )\n",
        "  return (completion.choices[0].message.content)"
      ],
      "metadata": {
        "id": "1gwq6JzZ0_yX"
      },
      "execution_count": null,
      "outputs": []
    },
    {
      "cell_type": "code",
      "source": [
        "prompt = \"...\" # insert the prompt for the model (what you want it to do)"
      ],
      "metadata": {
        "id": "-uMYOAHEV3Vp"
      },
      "execution_count": null,
      "outputs": []
    },
    {
      "cell_type": "code",
      "source": [
        "# Base prompt\n",
        "# One-shot condition (one illustrating example)\n",
        "# Temperature: 0\n",
        "outputs_folder = \"/content/drive/MyDrive/thesis/base_prompt_one_shot/chatgpt_outputs_temp0\"\n",
        "\n",
        "for i, text in enumerate(tqdm(ids_texts_combined, desc=\"ChatGPT is detecting propaganda...\")):\n",
        "    output = detect_propaganda_with_chatgpt(base_one_shot_prompt, text, 0)\n",
        "    file_name = os.path.join(outputs_folder, f\"base_one-shot_output_{i+1}.txt\")  # generate a unique file path for each element\n",
        "    with open(file_name, 'w') as file:\n",
        "        file.write(str(output))"
      ],
      "metadata": {
        "id": "q4-70UnRBV41",
        "colab": {
          "base_uri": "https://localhost:8080/"
        },
        "outputId": "c21ba078-b5e8-4a4c-9a96-7298ee6669ba"
      },
      "execution_count": null,
      "outputs": [
        {
          "output_type": "stream",
          "name": "stderr",
          "text": [
            "ChatGPT is detecting propaganda...: 100%|██████████| 409/409 [2:30:14<00:00, 22.04s/it]\n"
          ]
        }
      ]
    },
    {
      "cell_type": "code",
      "source": [
        "# CoT prompt\n",
        "# One-shot condition (one illustrating example)\n",
        "# Temperature: 0\n",
        "outputs_folder = \"/content/drive/MyDrive/thesis/CoT_prompt_one_shot/temperature_0/chatgpt_outputs_temp0\"\n",
        "\n",
        "for i, text in enumerate(tqdm(ids_texts_combined, desc=\"ChatGPT is detecting propaganda...\")):\n",
        "    output = detect_propaganda_with_chatgpt(cot_one_shot_prompt, text, 0)\n",
        "    file_name = os.path.join(outputs_folder, f\"cot_one-shot_output_temp0{i+1}.txt\")  # generate a unique file path for each element\n",
        "    with open(file_name, 'w') as file:\n",
        "        file.write(str(output))"
      ],
      "metadata": {
        "id": "UdYoAu5yJiEV",
        "colab": {
          "base_uri": "https://localhost:8080/"
        },
        "outputId": "b3a22bb3-dbb3-4f21-a4d1-0f9efcc63baa"
      },
      "execution_count": null,
      "outputs": [
        {
          "output_type": "stream",
          "name": "stderr",
          "text": [
            "ChatGPT is detecting propaganda...: 100%|██████████| 409/409 [2:57:23<00:00, 26.02s/it]\n"
          ]
        }
      ]
    },
    {
      "cell_type": "markdown",
      "source": [
        "## 3.2. Few-shot condition"
      ],
      "metadata": {
        "id": "IzaGxuXvBDvY"
      }
    },
    {
      "cell_type": "code",
      "source": [
        "# Base prompt\n",
        "# Few-shot condition (four illustrating examples)\n",
        "# Temperaure: 0\n",
        "outputs_folder = \"/content/drive/MyDrive/thesis/base_prompt_few_shot/temperature_0/chatgpt_outputs_temp0\"\n",
        "\n",
        "for i, text in enumerate(tqdm(ids_texts_combined, desc=\"ChatGPT is detecting propaganda...\")):\n",
        "    output = detect_propaganda_with_chatgpt(base_few_shot_prompt, text, 0)\n",
        "    file_name = os.path.join(outputs_folder, f\"base_few-shot_output_temp0_{i+1}.txt\")  # generate a unique file path for each element\n",
        "    with open(file_name, 'w') as file:\n",
        "        file.write(str(output))"
      ],
      "metadata": {
        "id": "jnUXqpfMDQFu",
        "colab": {
          "base_uri": "https://localhost:8080/"
        },
        "outputId": "b77639d9-82bf-4cb5-c9a5-f537b4e64c1d"
      },
      "execution_count": null,
      "outputs": [
        {
          "output_type": "stream",
          "name": "stderr",
          "text": [
            "ChatGPT is detecting propaganda...: 100%|██████████| 409/409 [2:41:11<00:00, 23.65s/it]\n"
          ]
        }
      ]
    },
    {
      "cell_type": "code",
      "source": [
        "# CoT prompt\n",
        "# Few-shot condition (four illustrating examples)\n",
        "# Temperature: 0\n",
        "outputs_folder = \"/content/drive/MyDrive/thesis/CoT_prompt_few_shot/temperature_0/chatgpt_outputs_temp0\"\n",
        "\n",
        "for i, text in enumerate(tqdm(ids_texts_combined, desc=\"ChatGPT is detecting propaganda...\")):\n",
        "    output = detect_propaganda_with_chatgpt(cot_few_shot_prompt, text, 0)\n",
        "    file_name = os.path.join(outputs_folder, f\"cot_few-shot_output_temp0_{i+1}.txt\")  # generate a unique file path for each element\n",
        "    with open(file_name, 'w') as file:\n",
        "        file.write(str(output))"
      ],
      "metadata": {
        "id": "MYnaovFc0_0-",
        "colab": {
          "base_uri": "https://localhost:8080/"
        },
        "outputId": "0b784f04-e817-43f2-f8b2-dd1f86ef38ff"
      },
      "execution_count": null,
      "outputs": [
        {
          "output_type": "stream",
          "name": "stderr",
          "text": [
            "ChatGPT is detecting propaganda...: 100%|██████████| 409/409 [2:34:03<00:00, 22.60s/it]\n"
          ]
        }
      ]
    }
  ]
}